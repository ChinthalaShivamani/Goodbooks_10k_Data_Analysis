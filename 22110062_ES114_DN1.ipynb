{
  "nbformat": 4,
  "nbformat_minor": 0,
  "metadata": {
    "colab": {
      "provenance": []
    },
    "kernelspec": {
      "name": "python3",
      "display_name": "Python 3"
    },
    "language_info": {
      "name": "python"
    }
  },
  "cells": [
    {
      "cell_type": "markdown",
      "source": [
        "#**QUESTION 1**\n",
        "**What are the top 10 most frequently rated books, and how many ratings do they have?**"
      ],
      "metadata": {
        "id": "v5OL10sMIPAg"
      }
    },
    {
      "cell_type": "code",
      "source": [
        "import pandas as pd\n",
        "x = pd.read_csv('books.csv')\n",
        "y = pd.read_csv('ratings.csv')\n",
        "book_rating = y.groupby('book_id')['user_id'].count().sort_values(ascending=False)\n",
        "z = book_rating.head(10)\n",
        "for i, book_id in enumerate(z.index):\n",
        "    title = x.loc[x['book_id'] == book_id]['title'].values[0]\n",
        "    rating_count = z.values[i]\n",
        "    print(f\"{i+1}) {title}: {rating_count} ratings\")"
      ],
      "metadata": {
        "colab": {
          "base_uri": "https://localhost:8080/"
        },
        "id": "I3LyChRrHuRu",
        "outputId": "139c09c5-5ad2-4ed5-876c-50eabc700b3a"
      },
      "execution_count": null,
      "outputs": [
        {
          "output_type": "stream",
          "name": "stdout",
          "text": [
            "1) The Hunger Games (The Hunger Games, #1): 18642 ratings\n",
            "2) Harry Potter and the Sorcerer's Stone (Harry Potter, #1): 17436 ratings\n",
            "3) To Kill a Mockingbird: 15132 ratings\n",
            "4) Twilight (Twilight, #1): 14057 ratings\n",
            "5) The Great Gatsby: 13443 ratings\n",
            "6) Catching Fire (The Hunger Games, #2): 13048 ratings\n",
            "7) The Hobbit: 12982 ratings\n",
            "8) Mockingjay (The Hunger Games, #3): 12397 ratings\n",
            "9) Harry Potter and the Prisoner of Azkaban (Harry Potter, #3): 12063 ratings\n",
            "10) The Catcher in the Rye: 11962 ratings\n"
          ]
        }
      ]
    },
    {
      "cell_type": "markdown",
      "source": [
        "# **QUESTION 2**\n",
        "\n",
        "**What are the top 5 most popular authors based on the number of books in the dataset, and how many books does each author have?**\n",
        "\n",
        "**Plot the values in the bar graph**"
      ],
      "metadata": {
        "id": "444CMBK_D0pO"
      }
    },
    {
      "cell_type": "code",
      "source": [
        "import pandas as pd\n",
        "import matplotlib.pyplot as plt\n",
        "import numpy as np\n",
        "x = pd.read_csv('books.csv')\n",
        "author_counts = x.groupby('authors')['book_id'].count().sort_values(ascending=False)\n",
        "a = author_counts.head(5)\n",
        "y = []\n",
        "z = []\n",
        "for i, author in enumerate(a.index):\n",
        "    num_books = a.values[i]\n",
        "    y.append(num_books)\n",
        "    z.append(author)\n",
        "y = np.array(y[-1::-1])\n",
        "z = np.array(z[-1::-1])\n",
        "plt.barh(z, y)\n",
        "plt.ylabel('AUTHORS')\n",
        "plt.xlabel('NUMBER OF BOOKS WRITTEN BY THE AUTHOR')\n",
        "plt.title('Top 5 most popular authors based on the number of books')\n",
        "plt.show()"
      ],
      "metadata": {
        "colab": {
          "base_uri": "https://localhost:8080/",
          "height": 295
        },
        "id": "Ao6P6iJOMYBW",
        "outputId": "44c41418-7647-49a7-e858-8ab7a6e5ef78"
      },
      "execution_count": null,
      "outputs": [
        {
          "output_type": "display_data",
          "data": {
            "text/plain": [
              "<Figure size 432x288 with 1 Axes>"
            ],
            "image/png": "[encoded data removed]"
          },
          "metadata": {
            "needs_background": "light"
          }
        }
      ]
    },
    {
      "cell_type": "markdown",
      "source": [
        "# **QUESTION 3**\n",
        "\n",
        "**How many unique books are in the dataset, and what is the average rating of these books?**"
      ],
      "metadata": {
        "id": "3yjMWJkl_i-Q"
      }
    },
    {
      "cell_type": "code",
      "source": [
        "import pandas as pd\n",
        "books = pd.read_csv('books.csv')\n",
        "rating = pd.read_csv('ratings.csv')\n",
        "num_books = len(books['book_id'].unique())\n",
        "avg_rating = rating['rating'].mean()\n",
        "print(f\"There are {num_books} unique books in the dataset, with an average rating of {avg_rating:.2f}\")"
      ],
      "metadata": {
        "id": "Anp3w07v6Irq",
        "colab": {
          "base_uri": "https://localhost:8080/"
        },
        "outputId": "6fa99e3c-aaf3-4a91-c090-b834d1f62b9a"
      },
      "execution_count": null,
      "outputs": [
        {
          "output_type": "stream",
          "name": "stdout",
          "text": [
            "There are 10000 unique books in the dataset, with an average rating of 3.92\n"
          ]
        }
      ]
    },
    {
      "cell_type": "markdown",
      "source": [
        "#**QUESTION 4**\n",
        "**what is the average book rating of the books published in each year?**\n",
        "**Plot the values in the bar graph**\n"
      ],
      "metadata": {
        "id": "5TY92MeHOf0A"
      }
    },
    {
      "cell_type": "code",
      "source": [
        "import pandas as pd\n",
        "import matplotlib.pyplot as plt\n",
        "x = pd.read_csv('books.csv')\n",
        "books = x[(x['original_publication_year'] >= 1990) & (x['original_publication_year'] <= 2010)]\n",
        "ratings = books.groupby('original_publication_year')['average_rating'].mean()\n",
        "plt.bar(ratings.index, ratings.values)\n",
        "plt.xlabel('Year')\n",
        "plt.ylabel('Average Rating')\n",
        "plt.title('Average Book Ratings by Year (1990-2010)')\n",
        "plt.show()"
      ],
      "metadata": {
        "colab": {
          "base_uri": "https://localhost:8080/",
          "height": 295
        },
        "id": "aqQuNZ_aOhut",
        "outputId": "c61a4266-0ecf-4212-809e-782174d2b212"
      },
      "execution_count": 7,
      "outputs": [
        {
          "output_type": "display_data",
          "data": {
            "text/plain": [
              "<Figure size 432x288 with 1 Axes>"
            ],
            "image/png": "[encoded data removed]"
          },
          "metadata": {
            "needs_background": "light"
          }
        }
      ]
    },
    {
      "cell_type": "markdown",
      "source": [
        "#**QUESTION 5**\n",
        "**Mention the top 5 best book to read by the readers**\n",
        "**Create the table format to display the results**"
      ],
      "metadata": {
        "id": "hJqNirjoOuAU"
      }
    },
    {
      "cell_type": "code",
      "source": [
        "import pandas as pd\n",
        "from tabulate import tabulate\n",
        "books_df = pd.read_csv('books.csv')\n",
        "sorted_books = books_df.sort_values(['average_rating', 'ratings_count'], ascending=False)\n",
        "top_5_books = sorted_books.head(5)\n",
        "heading = ['Name of the book', 'Author', 'average rating']\n",
        "x = top_5_books[['title', 'authors', 'average_rating']]\n",
        "print(tabulate(x, headers=heading, tablefmt=\"fancy_grid\"))"
      ],
      "metadata": {
        "id": "5uRoOdQsOu19",
        "colab": {
          "base_uri": "https://localhost:8080/"
        },
        "outputId": "17faf44d-8a5f-4a96-caa0-3d852c1b93bb"
      },
      "execution_count": null,
      "outputs": [
        {
          "output_type": "stream",
          "name": "stdout",
          "text": [
            "╒══════╤════════════════════════════════════════════════════════╤════════════════════════════════════════════╤══════════════════╕\n",
            "│      │ Name of the book                                       │ Author                                     │   average rating │\n",
            "╞══════╪════════════════════════════════════════════════════════╪════════════════════════════════════════════╪══════════════════╡\n",
            "│ 3627 │ The Complete Calvin and Hobbes                         │ Bill Watterson                             │             4.82 │\n",
            "├──────┼────────────────────────────────────────────────────────┼────────────────────────────────────────────┼──────────────────┤\n",
            "│  861 │ Words of Radiance (The Stormlight Archive, #2)         │ Brandon Sanderson                          │             4.77 │\n",
            "├──────┼────────────────────────────────────────────────────────┼────────────────────────────────────────────┼──────────────────┤\n",
            "│ 3274 │ Harry Potter Boxed Set, Books 1-5 (Harry Potter, #1-5) │ J.K. Rowling, Mary GrandPré                │             4.77 │\n",
            "├──────┼────────────────────────────────────────────────────────┼────────────────────────────────────────────┼──────────────────┤\n",
            "│ 8853 │ Mark of the Lion Trilogy                               │ Francine Rivers                            │             4.76 │\n",
            "├──────┼────────────────────────────────────────────────────────┼────────────────────────────────────────────┼──────────────────┤\n",
            "│ 7946 │ ESV Study Bible                                        │ Anonymous, Lane T. Dennis, Wayne A. Grudem │             4.76 │\n",
            "╘══════╧════════════════════════════════════════════════════════╧════════════════════════════════════════════╧══════════════════╛\n"
          ]
        }
      ]
    }
  ]
}